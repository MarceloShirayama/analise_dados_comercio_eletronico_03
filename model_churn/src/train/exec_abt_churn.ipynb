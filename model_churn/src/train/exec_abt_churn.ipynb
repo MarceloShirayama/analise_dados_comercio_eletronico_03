{
 "cells": [
  {
   "cell_type": "code",
   "execution_count": 15,
   "metadata": {},
   "outputs": [],
   "source": [
    "import pandas as pd\n",
    "from pprint import pprint\n",
    "from olistlib.db.utils import import_query, connect_db\n",
    "from sklearn import tree, metrics"
   ]
  },
  {
   "cell_type": "code",
   "execution_count": 16,
   "metadata": {},
   "outputs": [
    {
     "output_type": "stream",
     "name": "stdout",
     "text": "('SELECT\\n'\n \"    '{date}' AS dt_referencia,\\n\"\n '    T1.*,\\n'\n '    coalesce(T2.qtde_vda, 0) AS qtde_vda_futura,\\n'\n '    CASE\\n'\n '        WHEN coalesce(T2.qtde_vda, 0) = 0\\n'\n '        THEN 1\\n'\n '        ELSE 0\\n'\n '        END\\n'\n '        AS flag_churn\\n'\n '\\n'\n 'FROM(\\n'\n '\\n'\n '    SELECT\\n'\n '        T1.seller_id,\\n'\n '        max(T1.dt_venda) AS dt_ult_vda,\\n'\n '        \\n'\n '        /* Totais */\\n'\n '        sum(T1.price) AS receita_total,\\n'\n '        count(DISTINCT T1.order_id) AS qtde_vdas,\\n'\n '        count(T1.product_id) AS qtde_itens_total,\\n'\n '        count(DISTINCT T1.product_id) AS qtde_itens_dist_total,\\n'\n '        sum(T1.freight_value) AS frete_total,\\n'\n '\\n'\n '        /* Médias por pedido */\\n'\n '        sum(T1.price) / count(DISTINCT T1.order_id) AS receita_por_venda,\\n'\n '        count(T1.product_id) / count(DISTINCT T1.order_id) AS '\n 'items_por_vda,\\n'\n '        sum(T1.freight_value) / count(DISTINCT T1.product_id) AS '\n 'frete_por_vda,\\n'\n '        sum(T1.freight_value) / count(DISTINCT T1.order_id) AS '\n 'frete_por_item,\\n'\n '\\n'\n '        count(DISTINCT strftime(\"%m\", dt_venda)) /6. AS proporcao_ativacao\\n'\n '\\n'\n '    FROM(\\n'\n '\\n'\n '        SELECT\\n'\n '            T1.order_id, \\n'\n '            T1.order_purchase_timestamp AS dt_venda, \\n'\n '            CASE\\n'\n '                WHEN \\n'\n '                    T1.order_delivered_customer_date > \\n'\n '                    T1.order_estimated_delivery_date\\n'\n '                THEN 1\\n'\n '                ELSE 0\\n'\n '                END\\n'\n '                AS flag_atraso,\\n'\n '            T2.seller_id,\\n'\n '            T2.product_id,\\n'\n '            T2.price,\\n'\n '            T2.freight_value,\\n'\n '            T3.seller_state,\\n'\n '            T4.product_category_name\\n'\n '                \\n'\n '        FROM tb_orders AS T1\\n'\n '\\n'\n '        LEFT JOIN tb_order_items AS T2\\n'\n '        ON T1.order_id = T2.order_id\\n'\n '\\n'\n '        LEFT JOIN tb_sellers AS T3\\n'\n '        ON T2.seller_id = T3.seller_id\\n'\n '\\n'\n '        LEFT JOIN tb_products AS T4\\n'\n '        ON T2.product_id = T4.product_id\\n'\n '\\n'\n \"        WHERE T1.order_purchase_timestamp < '{date}'\\n\"\n \"        AND T1.order_purchase_timestamp >= date('{date}', '-6 month')\\n\"\n \"        AND T1.order_status = 'delivered'\\n\"\n '\\n'\n '    ) AS T1\\n'\n '\\n'\n '    GROUP BY T1.seller_id\\n'\n '\\n'\n \"    HAVING  max(T1.dt_venda) >=  date('{date}', '-3 month')\\n\"\n '\\n'\n ') AS T1\\n'\n '\\n'\n 'LEFT JOIN (\\n'\n '\\n'\n '    SELECT\\n'\n '        T2.seller_id, \\n'\n '        count(DISTINCT T1.order_id) AS qtde_vda\\n'\n '                \\n'\n '    FROM tb_orders AS T1\\n'\n '\\n'\n '    LEFT JOIN tb_order_items AS T2\\n'\n '    ON T1.order_id = T2.order_id\\n'\n '\\n'\n \"    WHERE T1.order_purchase_timestamp >= '{date}'\\n\"\n \"    AND T1.order_purchase_timestamp < date('{date}', '+3 month')\\n\"\n \"    -- AND T1.order_status = 'delivered'\\n\"\n '\\n'\n '    GROUP BY T2.seller_id\\n'\n '\\n'\n ') as T2\\n'\n '\\n'\n 'ON T1.seller_id = T2. seller_id\\n'\n '\\n'\n 'ORDER by dt_ult_vda ASC')\n"
    }
   ],
   "source": [
    "# Importando a query\n",
    "query_path = '/home/marcelo/desenvolvimento/proj_ex/teo_calvo/olist_do_teo/prepara_abt/query02.sql'\n",
    "query = import_query(query_path)\n",
    "pprint(query)"
   ]
  },
  {
   "cell_type": "code",
   "execution_count": 17,
   "metadata": {},
   "outputs": [
    {
     "output_type": "stream",
     "name": "stdout",
     "text": "['2017-01-01', '2017-02-01', '2017-03-01', '2017-04-01', '2017-05-01', '2017-06-01', '2017-07-01', '2017-08-01', '2017-09-01']\n"
    }
   ],
   "source": [
    "datas = ['2017-01-01',\n",
    "        '2017-02-01',\n",
    "        '2017-03-01',\n",
    "        '2017-04-01',\n",
    "        '2017-05-01',\n",
    "        '2017-06-01',\n",
    "        '2017-07-01',\n",
    "        '2017-08-01',\n",
    "        '2017-09-01'\n",
    "        ]\n",
    "print(datas)"
   ]
  },
  {
   "cell_type": "code",
   "execution_count": 18,
   "metadata": {},
   "outputs": [],
   "source": [
    "conn = connect_db('sqlite', \n",
    "    path='/home/marcelo/desenvolvimento/proj_ex/teo_calvo/olist_do_teo/upload_olist/data/olist.db'\n",
    "    )"
   ]
  },
  {
   "cell_type": "code",
   "execution_count": 19,
   "metadata": {
    "tags": [
     "outputPrepend"
    ]
   },
   "outputs": [],
   "source": [
    "dfs = []\n",
    "for data in datas:\n",
    "    query_formatada = query.format(date = data)\n",
    "    df_tmp = pd.read_sql_query(query_formatada, conn)\n",
    "    dfs.append(df_tmp)"
   ]
  },
  {
   "cell_type": "code",
   "execution_count": 20,
   "metadata": {},
   "outputs": [
    {
     "output_type": "execute_result",
     "data": {
      "text/plain": "  dt_referencia                         seller_id           dt_ult_vda  \\\n0    2017-01-01  f09b760d23495ac9a7e00d29b769007c  2016-10-03 16:56:50   \n1    2017-01-01  45d33f715e24d15a6ccf5c17b3a23e3c  2016-10-03 21:13:36   \n2    2017-01-01  b499c00f28f4b7069ff6550af8c1348a  2016-10-03 22:31:31   \n3    2017-01-01  4b1eaadf791bdbbad8c4a35b65236d52  2016-10-04 09:16:33   \n4    2017-01-01  624f4ece8da4aafb77699233d480f8ef  2016-10-04 10:16:04   \n\n   receita_total  qtde_vdas  qtde_itens_total  qtde_itens_dist_total  \\\n0          21.90          1                 1                      1   \n1          36.49          1                 1                      1   \n2          29.99          1                 1                      1   \n3          32.49          1                 1                      1   \n4         189.00          1                 1                      1   \n\n   frete_total  receita_por_venda  items_por_vda  frete_por_vda  \\\n0        17.19              21.90              1          17.19   \n1        17.24              36.49              1          17.24   \n2        10.96              29.99              1          10.96   \n3        11.74              32.49              1          11.74   \n4        48.45             189.00              1          48.45   \n\n   frete_por_item  proporcao_ativacao  qtde_vda_futura  flag_churn  \n0           17.19            0.166667                0           1  \n1           17.24            0.166667               17           0  \n2           10.96            0.166667               10           0  \n3           11.74            0.166667                6           0  \n4           48.45            0.166667                2           0  ",
      "text/html": "<div>\n<style scoped>\n    .dataframe tbody tr th:only-of-type {\n        vertical-align: middle;\n    }\n\n    .dataframe tbody tr th {\n        vertical-align: top;\n    }\n\n    .dataframe thead th {\n        text-align: right;\n    }\n</style>\n<table border=\"1\" class=\"dataframe\">\n  <thead>\n    <tr style=\"text-align: right;\">\n      <th></th>\n      <th>dt_referencia</th>\n      <th>seller_id</th>\n      <th>dt_ult_vda</th>\n      <th>receita_total</th>\n      <th>qtde_vdas</th>\n      <th>qtde_itens_total</th>\n      <th>qtde_itens_dist_total</th>\n      <th>frete_total</th>\n      <th>receita_por_venda</th>\n      <th>items_por_vda</th>\n      <th>frete_por_vda</th>\n      <th>frete_por_item</th>\n      <th>proporcao_ativacao</th>\n      <th>qtde_vda_futura</th>\n      <th>flag_churn</th>\n    </tr>\n  </thead>\n  <tbody>\n    <tr>\n      <th>0</th>\n      <td>2017-01-01</td>\n      <td>f09b760d23495ac9a7e00d29b769007c</td>\n      <td>2016-10-03 16:56:50</td>\n      <td>21.90</td>\n      <td>1</td>\n      <td>1</td>\n      <td>1</td>\n      <td>17.19</td>\n      <td>21.90</td>\n      <td>1</td>\n      <td>17.19</td>\n      <td>17.19</td>\n      <td>0.166667</td>\n      <td>0</td>\n      <td>1</td>\n    </tr>\n    <tr>\n      <th>1</th>\n      <td>2017-01-01</td>\n      <td>45d33f715e24d15a6ccf5c17b3a23e3c</td>\n      <td>2016-10-03 21:13:36</td>\n      <td>36.49</td>\n      <td>1</td>\n      <td>1</td>\n      <td>1</td>\n      <td>17.24</td>\n      <td>36.49</td>\n      <td>1</td>\n      <td>17.24</td>\n      <td>17.24</td>\n      <td>0.166667</td>\n      <td>17</td>\n      <td>0</td>\n    </tr>\n    <tr>\n      <th>2</th>\n      <td>2017-01-01</td>\n      <td>b499c00f28f4b7069ff6550af8c1348a</td>\n      <td>2016-10-03 22:31:31</td>\n      <td>29.99</td>\n      <td>1</td>\n      <td>1</td>\n      <td>1</td>\n      <td>10.96</td>\n      <td>29.99</td>\n      <td>1</td>\n      <td>10.96</td>\n      <td>10.96</td>\n      <td>0.166667</td>\n      <td>10</td>\n      <td>0</td>\n    </tr>\n    <tr>\n      <th>3</th>\n      <td>2017-01-01</td>\n      <td>4b1eaadf791bdbbad8c4a35b65236d52</td>\n      <td>2016-10-04 09:16:33</td>\n      <td>32.49</td>\n      <td>1</td>\n      <td>1</td>\n      <td>1</td>\n      <td>11.74</td>\n      <td>32.49</td>\n      <td>1</td>\n      <td>11.74</td>\n      <td>11.74</td>\n      <td>0.166667</td>\n      <td>6</td>\n      <td>0</td>\n    </tr>\n    <tr>\n      <th>4</th>\n      <td>2017-01-01</td>\n      <td>624f4ece8da4aafb77699233d480f8ef</td>\n      <td>2016-10-04 10:16:04</td>\n      <td>189.00</td>\n      <td>1</td>\n      <td>1</td>\n      <td>1</td>\n      <td>48.45</td>\n      <td>189.00</td>\n      <td>1</td>\n      <td>48.45</td>\n      <td>48.45</td>\n      <td>0.166667</td>\n      <td>2</td>\n      <td>0</td>\n    </tr>\n  </tbody>\n</table>\n</div>"
     },
     "metadata": {},
     "execution_count": 20
    }
   ],
   "source": [
    "abt = pd.concat(dfs, axis=0, ignore_index=True)\n",
    "abt.head()"
   ]
  },
  {
   "cell_type": "code",
   "execution_count": 21,
   "metadata": {},
   "outputs": [
    {
     "output_type": "stream",
     "name": "stdout",
     "text": "['2017-01-01' '2017-02-01' '2017-03-01' '2017-04-01' '2017-05-01'\n '2017-06-01' '2017-07-01' '2017-08-01' '2017-09-01']\n"
    }
   ],
   "source": [
    "print(\n",
    "abt['dt_referencia'].unique())"
   ]
  },
  {
   "cell_type": "code",
   "execution_count": 29,
   "metadata": {},
   "outputs": [],
   "source": [
    "med_churn_da_base = abt['flag_churn'].mean()"
   ]
  },
  {
   "cell_type": "code",
   "execution_count": 23,
   "metadata": {},
   "outputs": [
    {
     "output_type": "stream",
     "name": "stdout",
     "text": "flag_churn\nIndex(['receita_total', 'qtde_vdas', 'qtde_itens_total',\n       'qtde_itens_dist_total', 'frete_total', 'receita_por_venda',\n       'items_por_vda', 'frete_por_vda', 'frete_por_item',\n       'proporcao_ativacao'],\n      dtype='object')\n"
    }
   ],
   "source": [
    "# definição da váriavel target\n",
    "# definição das features para fazer a previsão\n",
    "target = 'flag_churn'\n",
    "features = abt.columns[3:-2]\n",
    "print(target)\n",
    "print(features)"
   ]
  },
  {
   "cell_type": "code",
   "execution_count": 24,
   "metadata": {},
   "outputs": [
    {
     "output_type": "execute_result",
     "data": {
      "text/plain": "DecisionTreeClassifier(max_depth=10)"
     },
     "metadata": {},
     "execution_count": 24
    }
   ],
   "source": [
    "#Definição do classificador e seu ajuste\n",
    "clf = tree.DecisionTreeClassifier(max_depth=10)\n",
    "clf.fit(abt[features], abt[target])"
   ]
  },
  {
   "cell_type": "code",
   "execution_count": 25,
   "metadata": {},
   "outputs": [],
   "source": [
    "# Criação da base preditiva\n",
    "y_pred = clf.predict(abt[features])\n",
    "y_prob = clf.predict_proba(abt[features])"
   ]
  },
  {
   "cell_type": "markdown",
   "metadata": {},
   "source": [
    "Conceito AUC e ROC:\n",
    "\n",
    "https://medium.com/@eam.avelar/o-que-%C3%A9-auc-e-roc-nos-modelos-de-machine-learning-2e2c4112033d"
   ]
  },
  {
   "cell_type": "code",
   "execution_count": 26,
   "metadata": {},
   "outputs": [],
   "source": [
    "# Acurácia\n",
    "acc = metrics.accuracy_score(abt[target], y_pred)"
   ]
  },
  {
   "cell_type": "code",
   "execution_count": 27,
   "metadata": {},
   "outputs": [],
   "source": [
    "# ROC\n",
    "auc = metrics.roc_auc_score(abt[target], y_prob[:,1])"
   ]
  },
  {
   "cell_type": "code",
   "execution_count": 28,
   "metadata": {},
   "outputs": [],
   "source": [
    "# Váriavel mais importante para o modelo tomar decisão\n",
    "features_importance = pd.Series(clf.feature_importances_, index=features)\n",
    "features_importance.sort_values(inplace=True)"
   ]
  }
 ],
 "metadata": {
  "language_info": {
   "codemirror_mode": {
    "name": "ipython",
    "version": 3
   },
   "file_extension": ".py",
   "mimetype": "text/x-python",
   "name": "python",
   "nbconvert_exporter": "python",
   "pygments_lexer": "ipython3",
   "version": "3.8.3-final"
  },
  "orig_nbformat": 2,
  "kernelspec": {
   "name": "python38364bitf3ed2bd8bf9c40c489c04e942b313a4d",
   "display_name": "Python 3.8.3 64-bit"
  }
 },
 "nbformat": 4,
 "nbformat_minor": 2
}